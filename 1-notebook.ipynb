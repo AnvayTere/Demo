{
  "metadata": {
    "language_info": {
      "codemirror_mode": {
        "name": "python",
        "version": 3
      },
      "file_extension": ".py",
      "mimetype": "text/x-python",
      "name": "python",
      "nbconvert_exporter": "python",
      "pygments_lexer": "ipython3",
      "version": "3.8"
    },
    "kernelspec": {
      "name": "python",
      "display_name": "Pyolite",
      "language": "python"
    }
  },
  "nbformat_minor": 4,
  "nbformat": 4,
  "cells": [
    {
      "cell_type": "markdown",
      "source": "First insight to my Jupyter notebook",
      "metadata": {}
    },
    {
      "cell_type": "markdown",
      "source": "This is a test which i am giving right now \nThis is my first time experience of using jupyter notebook.\nI am very much excited to use it.",
      "metadata": {}
    },
    {
      "cell_type": "markdown",
      "source": "The various data science languages are :-\n1. Python\n2. SQL\n3. R\n4. Julia\n5. Scala\n6. Go",
      "metadata": {}
    },
    {
      "cell_type": "markdown",
      "source": "There are many data science libraries available in the industry but some of the most famous one are:-\n1. TensorFlow\n2. PyTorch\n3. OpenCV\n4. Caffe\n5. sckit-learn",
      "metadata": {}
    },
    {
      "cell_type": "code",
      "source": "Here are some operations:-\n5+5\n6*10\n7*8/7",
      "metadata": {
        "trusted": true
      },
      "execution_count": 1,
      "outputs": [
        {
          "ename": "<class 'SyntaxError'>",
          "evalue": "invalid syntax (<ipython-input-1-7e175c216a42>, line 1)",
          "traceback": [
            "\u001b[0;36m  Cell \u001b[0;32mIn[1], line 1\u001b[0;36m\u001b[0m\n\u001b[0;31m    Here are some operations:-\u001b[0m\n\u001b[0m         ^\u001b[0m\n\u001b[0;31mSyntaxError\u001b[0m\u001b[0;31m:\u001b[0m invalid syntax\n"
          ],
          "output_type": "error"
        }
      ]
    },
    {
      "cell_type": "markdown",
      "source": "Here are some operations:-   \n\n5+5,\n6*10,\n7*8/7.",
      "metadata": {}
    },
    {
      "cell_type": "code",
      "source": "5+5",
      "metadata": {
        "trusted": true
      },
      "execution_count": 2,
      "outputs": [
        {
          "execution_count": 2,
          "output_type": "execute_result",
          "data": {
            "text/plain": "10"
          },
          "metadata": {}
        }
      ]
    },
    {
      "cell_type": "code",
      "source": "8*7*9",
      "metadata": {
        "trusted": true
      },
      "execution_count": 3,
      "outputs": [
        {
          "execution_count": 3,
          "output_type": "execute_result",
          "data": {
            "text/plain": "504"
          },
          "metadata": {}
        }
      ]
    },
    {
      "cell_type": "code",
      "source": "min=120\nhours=min/60\nprint(hours)",
      "metadata": {
        "trusted": true
      },
      "execution_count": 4,
      "outputs": [
        {
          "name": "stdout",
          "text": "2.0\n",
          "output_type": "stream"
        }
      ]
    },
    {
      "cell_type": "markdown",
      "source": "Here is a list of some fruits:-\n- Apple\n- Mango\n- Orange\n- Grapes\n- Watermelon",
      "metadata": {}
    },
    {
      "cell_type": "markdown",
      "source": "Anvay Tere",
      "metadata": {}
    },
    {
      "cell_type": "markdown",
      "source": "The table of the contents is :-\n\n| Sr.No | Data Science Tools |\n|-------|-------------------|\n| 1. | TensorFlow |\n| 2. | PyTorch |\n| 3. | OpenCV |\n| 4. | Caffe |\n| 5. | sckit-learn|\n",
      "metadata": {}
    },
    {
      "cell_type": "code",
      "source": "",
      "metadata": {},
      "execution_count": null,
      "outputs": []
    }
  ]
}